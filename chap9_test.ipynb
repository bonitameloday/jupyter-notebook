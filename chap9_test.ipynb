{
 "cells": [
  {
   "cell_type": "code",
   "execution_count": null,
   "id": "e6228eac",
   "metadata": {},
   "outputs": [],
   "source": [
    "#01\n",
    "#1\n",
    "import math\n",
    "print('(1): ', math.pi)\n",
    "\n",
    "#2\n",
    "import math as m\n",
    "print('(2): ', m.pi)\n",
    "\n",
    "#3 \n",
    "from math import pi\n",
    "print('(3): ', pi)\n",
    "\n",
    "#4\n",
    "from math import pi as p\n",
    "print('(4): ', p)"
   ]
  },
  {
   "cell_type": "code",
   "execution_count": null,
   "id": "1eea27ad",
   "metadata": {},
   "outputs": [],
   "source": [
    "#02\n",
    "from random import *\n",
    "help(randint)\n",
    "help(randrange)"
   ]
  },
  {
   "cell_type": "code",
   "execution_count": null,
   "id": "bda0fd9e",
   "metadata": {},
   "outputs": [],
   "source": [
    "#03\n",
    "import this\n",
    "import this\n",
    "import imp\n",
    "imp.reload(this)"
   ]
  },
  {
   "cell_type": "code",
   "execution_count": null,
   "id": "7d0e8a70",
   "metadata": {
    "scrolled": true
   },
   "outputs": [],
   "source": [
    "#04\n",
    "from sys import * # 빈칸\n",
    "path.append('D:\\\\2019 Python Code \\ch09')\n",
    "from ex import mymd\n",
    "mymd.greeting('Python') # 빈칸"
   ]
  },
  {
   "cell_type": "code",
   "execution_count": null,
   "id": "ac6c304f",
   "metadata": {},
   "outputs": [],
   "source": [
    "#05\n",
    "import turtle as t\n",
    "\n",
    "for i in range(50, 300, 30):\n",
    "    t.forward(i)\n",
    "    t.left(120) # 빈칸"
   ]
  },
  {
   "cell_type": "code",
   "execution_count": null,
   "id": "e41752f9",
   "metadata": {},
   "outputs": [],
   "source": [
    "import turtle as t\n",
    "\n",
    "t.fillcolor('yellow') # 빈칸\n",
    "t.begin_fill()\n",
    "for i in range(3):\n",
    "    t.forward(200)\n",
    "    t.left(120)\n",
    "    \n",
    "t.end_fill() # 빈칸"
   ]
  },
  {
   "cell_type": "code",
   "execution_count": 5,
   "id": "1c952300",
   "metadata": {},
   "outputs": [
    {
     "name": "stdout",
     "output_type": "stream",
     "text": [
      "(1):  [21 21 20 18 12]\n",
      "(2):  [ 7 15 10  6  4]\n",
      "(3):  [98 54 75 72 32]\n",
      "(4):  [2. 6. 3. 2. 2.]\n"
     ]
    }
   ],
   "source": [
    "#06\n",
    "import numpy as np\n",
    "\n",
    "aryA = np.array([14, 18, 15, 12, 8])\n",
    "aryB = np.array([7, 3, 5, 6, 4])\n",
    "#1\n",
    "print('(1): ', aryA + aryB)\n",
    "#2\n",
    "print('(2): ', aryA - aryB)\n",
    "#3\n",
    "print('(3): ', aryA * aryB)\n",
    "#4\n",
    "print('(4): ', aryA / aryB)"
   ]
  },
  {
   "cell_type": "code",
   "execution_count": 13,
   "id": "a1334cf5",
   "metadata": {},
   "outputs": [
    {
     "data": {
      "image/png": "[encoded data removed]",
      "text/plain": [
       "<Figure size 640x480 with 1 Axes>"
      ]
     },
     "metadata": {},
     "output_type": "display_data"
    }
   ],
   "source": [
    "import matplotlib.pyplot as plt # 빈칸\n",
    "    \n",
    "objects = ('Python', 'Java', 'C++', 'C#', 'C', 'Kotlin')\n",
    "performance = [10, 8, 6, 4, 7, 2] # 빈칸\n",
    "\n",
    "plt.title('Programming language usage') # 제목\n",
    "plt.xlabel('Usage') # x축 레이블\n",
    "plt.ylabel('Programming Language') # y출 레이블 # 빈칸\n",
    "\n",
    "# 세로바 그리기\n",
    "plt.bar(objects, performance, width=0.7, color='aqua') # 빈칸\n",
    "plt.show()"
   ]
  },
  {
   "cell_type": "code",
   "execution_count": null,
   "id": "23b3fe4b",
   "metadata": {},
   "outputs": [],
   "source": []
  }
 ],
 "metadata": {
  "kernelspec": {
   "display_name": "Python 3 (ipykernel)",
   "language": "python",
   "name": "python3"
  },
  "language_info": {
   "codemirror_mode": {
    "name": "ipython",
    "version": 3
   },
   "file_extension": ".py",
   "mimetype": "text/x-python",
   "name": "python",
   "nbconvert_exporter": "python",
   "pygments_lexer": "ipython3",
   "version": "3.11.4"
  }
 },
 "nbformat": 4,
 "nbformat_minor": 5
}
