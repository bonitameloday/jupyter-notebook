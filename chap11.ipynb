{
 "cells": [
  {
   "cell_type": "code",
   "execution_count": 2,
   "id": "90dafe79",
   "metadata": {},
   "outputs": [
    {
     "name": "stdout",
     "output_type": "stream",
     "text": [
      "['C/C++']\n",
      "잘 실행됐습니다.\n",
      "예외 처리가 잘 되는군요!\n"
     ]
    }
   ],
   "source": [
    "lst = ['C/C++', 'java', 'c#', 'python']\n",
    "\n",
    "try:\n",
    "    print([lst[0]])\n",
    "except Exception as e:\n",
    "    print('예외 발생 이름: {}'.format(type(e)))\n",
    "    print('예외 발생 이유: {}'.format(e))\n",
    "else:\n",
    "    print('잘 실행됐습니다.')\n",
    "finally:\n",
    "    print('예외 처리가 잘 되는군요!')"
   ]
  },
  {
   "cell_type": "code",
   "execution_count": null,
   "id": "76416427",
   "metadata": {},
   "outputs": [],
   "source": [
    "#11-6\n",
    "f = open('pyzen.txt', 'wt')\n",
    "f.write('파이썬 철학\\n')\n",
    "f.write('아름다운 것이 추한 것보다 낫다.\\n')\n",
    "f.close()\n"
   ]
  }
 ],
 "metadata": {
  "kernelspec": {
   "display_name": "Python 3 (ipykernel)",
   "language": "python",
   "name": "python3"
  },
  "language_info": {
   "codemirror_mode": {
    "name": "ipython",
    "version": 3
   },
   "file_extension": ".py",
   "mimetype": "text/x-python",
   "name": "python",
   "nbconvert_exporter": "python",
   "pygments_lexer": "ipython3",
   "version": "3.11.4"
  }
 },
 "nbformat": 4,
 "nbformat_minor": 5
}
