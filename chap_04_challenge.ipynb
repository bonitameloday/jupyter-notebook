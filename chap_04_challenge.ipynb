{
 "cells": [
  {
   "cell_type": "code",
   "execution_count": null,
   "id": "ae50a793",
   "metadata": {},
   "outputs": [],
   "source": [
    "#01\n",
    "month = int(input('월 입력? '))\n",
    "if month == 4 or month == 5:\n",
    "    print('{}월 봄'.format(month))\n",
    "    \n",
    "if month == 6 or month == 7 or month == 8:\n",
    "    print('{}월 여름'.format(month))\n",
    "    \n",
    "if month == 9 or month == 10 :\n",
    "    print('{}월 가을'.format(month))\n",
    "\n",
    "if month == 11 or month == 12 or month == 1 or month == 2 or month == 3:\n",
    "    print('{}월 겨울'.format(month))"
   ]
  },
  {
   "cell_type": "code",
   "execution_count": null,
   "id": "86a35fb2",
   "metadata": {},
   "outputs": [],
   "source": [
    "#02\n",
    "from random import randint\n",
    "for i in range(5): #0~4\n",
    "    hour = randint(35,50) # 35~50\n",
    "    \n",
    "    if hour>=35 and hour<=40:\n",
    "        week = hour * 12000\n",
    "        \n",
    "    elif hour>=41 and hour<=50:\n",
    "        week = 40 * 12000 + (hour-40)*18000\n",
    "    \n",
    "    print('근로 시간 {}시간 , 주급 {}'.format(hour, week) )"
   ]
  },
  {
   "cell_type": "code",
   "execution_count": null,
   "id": "98cbd22c",
   "metadata": {},
   "outputs": [],
   "source": [
    "#03\n",
    "from random import randint\n",
    "num = []\n",
    "for i in range(3):\n",
    "    n = randint(1,99)\n",
    "    num.append(n)\n",
    "    print('{}'.format(n),end = ' ')\n",
    "print('중에서 ' + '최대: ', max(num))    "
   ]
  },
  {
   "cell_type": "code",
   "execution_count": null,
   "id": "3bd76c44",
   "metadata": {},
   "outputs": [],
   "source": [
    "#04\n",
    "h,w = map(float,input('당신의 키(cm)와 몸무게(kg)는? >> ').split())\n",
    "print('키: {}(cm), 몸무게: {}(kg)'.format(h,w))\n",
    "bmi = w/(h/100)**2\n",
    "\n",
    "if bmi>=40:\n",
    "    print('BMI: {} 고도 비만'.format(bmi))\n",
    "elif 35<=bmi<40:\n",
    "    print('BMI: {} 중등도 비만'.format(bmi))\n",
    "elif 30<=bmi<35:\n",
    "    print('BMI: {} 비만'.format(bmi))\n",
    "elif 25<=bmi<30:\n",
    "    print('BMI: {} 과체중'.format(bmi))\n",
    "elif 18.5<=bmi<25:\n",
    "    print('BMI: {} 정상'.format(bmi))\n",
    "elif bmi<18.5:\n",
    "    print('BMI: {} 저체중'.format(bmi))"
   ]
  },
  {
   "cell_type": "code",
   "execution_count": null,
   "id": "578722c2",
   "metadata": {},
   "outputs": [],
   "source": [
    "#05\n",
    "list = [20, 23, 26, 29, 32, 35, 38, 41]\n",
    "for i in list:\n",
    "    F = i*(9/5)+32\n",
    "    SF = i*2+30\n",
    "    result = F-SF\n",
    "    print('섭씨: {} 화씨: {} 화씨(약식): {} 차이: {}'.format(i,F,SF,abs(result)))"
   ]
  },
  {
   "cell_type": "code",
   "execution_count": null,
   "id": "164d259c",
   "metadata": {},
   "outputs": [],
   "source": [
    "#06\n",
    "from random import randint\n",
    "while True:\n",
    "    num1 = randint(1,99)\n",
    "    num2 = randint(1,99)\n",
    "    result = num1*num2\n",
    "    print('{} * {} = {}\\n'.format(num1, num2, result))\n",
    "    ans = input('계속 y / n ? ')\n",
    "    \n",
    "    if ans == 'y':   \n",
    "        continue\n",
    " \n",
    "    elif ans == 'n':\n",
    "        break;"
   ]
  },
  {
   "cell_type": "code",
   "execution_count": 5,
   "id": "99f8089a",
   "metadata": {
    "scrolled": true
   },
   "outputs": [
    {
     "name": "stdout",
     "output_type": "stream",
     "text": [
      "소수(prime number)인지를 판별한 2 이상의 정수 입력 >> 7\n",
      "정수 7는 소수이다.\n"
     ]
    }
   ],
   "source": [
    "#07\n",
    "import math\n",
    "inputNum = int(input('소수(prime number)인지를 판별한 2 이상의 정수 입력 >> '))\n",
    "for i in range(2, int(math.sqrt(inputNum))+1):\n",
    "    if inputNum % i == 0:\n",
    "        print('정수 {}는 소수가 아니다.'.format(inputNum))\n",
    "        break\n",
    "\n",
    "else:\n",
    "    print('정수 {}는 소수이다.'.format(inputNum))"
   ]
  },
  {
   "cell_type": "code",
   "execution_count": 6,
   "id": "740c0d41",
   "metadata": {},
   "outputs": [
    {
     "name": "stdout",
     "output_type": "stream",
     "text": [
      "첫 값은 30이다.\n",
      "산술 연산의 종류를 입력하세요. >> *\n",
      "두 번째 피연산자를 입력하세요. >> 2\n",
      "30 * 2 = 60\n",
      "\n",
      "산술 연산의 종류를 입력하세요. >> 9\n",
      "**************종료**************\n"
     ]
    }
   ],
   "source": [
    "#08\n",
    "from random import randint\n",
    "num1 = randint(1,100)\n",
    "print('첫 값은 {}이다.'.format(num1))\n",
    "\n",
    "while True:\n",
    "    operator = input('산술 연산의 종류를 입력하세요. >> ')\n",
    "\n",
    "    if operator == '+' or operator == '-' or operator == '*' or operator == '/' or operator == '%':\n",
    "        num2 = int(input('두 번째 피연산자를 입력하세요. >> '))\n",
    "        \n",
    "        if operator == '+':\n",
    "            result = num1 + num2\n",
    "            \n",
    "        elif operator == '-':\n",
    "            result = num1 - num2\n",
    " \n",
    "        elif operator == '*':\n",
    "            result = num1 * num2\n",
    "   \n",
    "        elif operator == '/':\n",
    "            result = num1 / num2\n",
    "    \n",
    "        elif operator == '%':\n",
    "            result = num1 % num2\n",
    "            \n",
    "        print('{} {} {} = {}\\n'.format(num1, operator, num2, result))\n",
    "    \n",
    "    else:\n",
    "        print('종료'.center(30,'*'))\n",
    "        break"
   ]
  },
  {
   "cell_type": "code",
   "execution_count": null,
   "id": "4c49bbad",
   "metadata": {},
   "outputs": [],
   "source": []
  }
 ],
 "metadata": {
  "kernelspec": {
   "display_name": "Python 3 (ipykernel)",
   "language": "python",
   "name": "python3"
  },
  "language_info": {
   "codemirror_mode": {
    "name": "ipython",
    "version": 3
   },
   "file_extension": ".py",
   "mimetype": "text/x-python",
   "name": "python",
   "nbconvert_exporter": "python",
   "pygments_lexer": "ipython3",
   "version": "3.11.4"
  }
 },
 "nbformat": 4,
 "nbformat_minor": 5
}
