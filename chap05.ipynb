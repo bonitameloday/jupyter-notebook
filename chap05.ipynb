{
 "cells": [
  {
   "cell_type": "code",
   "execution_count": 4,
   "id": "ee2f91b9",
   "metadata": {},
   "outputs": [
    {
     "name": "stdout",
     "output_type": "stream",
     "text": [
      "=============================================\n",
      "    COFFEE         BEVERAGE           ADE       \n",
      "=============================================\n",
      "  에스프레소   \n",
      "  아메리카노   \n",
      "   카페라떼   \n",
      "   카페모카   \n"
     ]
    }
   ],
   "source": [
    "#5-2\n",
    "menu = ['COFFEE', 'BEVERAGE', 'ADE']\n",
    "coffee = ['에스프레소','아메리카노','카페라떼','카페모카']\n",
    "\n",
    "print('='*45)\n",
    "for category in menu:\n",
    "    print('{:^15s}'.format(category), end=' ')\n",
    "print()\n",
    "print('='*45)\n",
    "    \n",
    "for ckind in coffee:\n",
    "    print('{:^10s}'.format(ckind))"
   ]
  },
  {
   "cell_type": "code",
   "execution_count": 6,
   "id": "2020a9c8",
   "metadata": {},
   "outputs": [
    {
     "name": "stdout",
     "output_type": "stream",
     "text": [
      "가위 바위 보 \n",
      "컴퓨터의 가위 바위 보 5개\n",
      "가위\n",
      "가위\n",
      "가위\n",
      "가위\n",
      "바위\n"
     ]
    }
   ],
   "source": [
    "#5-5\n",
    "rsp = ['가위', '바위', '보']\n",
    "for i in range(len(rsp)):\n",
    "    print(rsp[i], end=' ')\n",
    "print()\n",
    "\n",
    "from random import choice\n",
    "print('컴퓨터의 가위 바위 보 5개')\n",
    "for i in range(5):\n",
    "    print(choice(rsp))\n",
    "    "
   ]
  },
  {
   "cell_type": "code",
   "execution_count": 7,
   "id": "993bea81",
   "metadata": {},
   "outputs": [
    {
     "name": "stdout",
     "output_type": "stream",
     "text": [
      "[['사자', '코끼리', '호랑이'], '조류', '어류']\n",
      "['사자', '코끼리', '호랑이']\n",
      "조류\n",
      "어류\n",
      "\n",
      "[['사자', '코끼리', '호랑이'], ['독수리', '참새', '까치'], ['갈치', '붕어', '고등어']]\n",
      "사자 코끼리 호랑이 \n",
      "독수리 참새 까치 \n",
      "갈치 붕어 고등어 \n",
      "\n"
     ]
    }
   ],
   "source": [
    "#5-7\n",
    "animal = [['사자','코끼리','호랑이'],'조류','어류']\n",
    "print(animal)\n",
    "\n",
    "for s in animal:\n",
    "    print(s)\n",
    "print()\n",
    "\n",
    "bird = ['독수리','참새','까치']\n",
    "fish = ['갈치','붕어','고등어']\n",
    "animal[1:] = [bird,fish]\n",
    "print(animal)\n",
    "\n",
    "for lst in animal:\n",
    "    for item in lst:\n",
    "        print(item,end=' ')\n",
    "    print()\n",
    "print()"
   ]
  },
  {
   "cell_type": "code",
   "execution_count": 1,
   "id": "6734974e",
   "metadata": {},
   "outputs": [
    {
     "name": "stdout",
     "output_type": "stream",
     "text": [
      "['연필', '볼펜']\n",
      "['연필', 2, '볼펜', 3, '지우개', 1]\n",
      "2\n",
      "['볼펜', 3]\n"
     ]
    }
   ],
   "source": [
    "#5-9\n",
    "item = ['연필', '볼펜']\n",
    "print(item)\n",
    "\n",
    "item.insert(1,2)\n",
    "item.insert(3,3)\n",
    "item.insert(4,'지우개')\n",
    "item.insert(5,1)\n",
    "print(item)\n",
    "\n",
    "print(item.pop(1))\n",
    "item.remove('연필')\n",
    "del item[2:]\n",
    "\n",
    "print(item)"
   ]
  },
  {
   "cell_type": "code",
   "execution_count": 2,
   "id": "3c7fbf84",
   "metadata": {},
   "outputs": [
    {
     "name": "stdout",
     "output_type": "stream",
     "text": [
      "['삶', '꿈', '정', '복', '빛']\n",
      "['꿈', '복', '빛', '삶', '정']\n",
      "['복숭아', '자두', '골드키위', '귤']\n",
      "['자두', '복숭아', '귤', '골드키위']\n"
     ]
    }
   ],
   "source": [
    "#5-10\n",
    "word = list('삶꿈정')\n",
    "word.extend('복빛')\n",
    "print(word)\n",
    "word.sort()\n",
    "print(word)\n",
    "\n",
    "fruit = ['복숭아','자두','골드키위','귤']\n",
    "print(fruit)\n",
    "fruit.sort(reverse=True)\n",
    "print(fruit)\n",
    "\n",
    "mix = word"
   ]
  },
  {
   "cell_type": "code",
   "execution_count": 3,
   "id": "2955b2b8",
   "metadata": {},
   "outputs": [
    {
     "name": "stdout",
     "output_type": "stream",
     "text": [
      "[0, 1, 2, 3, 4, 5, 6, 7, 8, 9]\n",
      "[0, 1, 2, 3, 4, 5, 6, 7, 8, 9]\n",
      "[1, 9, 25, 49, 81]\n",
      "[1, 9, 25, 49, 81]\n"
     ]
    }
   ],
   "source": [
    "#5-11\n",
    "a = []\n",
    "for i in range(10):\n",
    "    a.append(i)\n",
    "print(a)\n",
    "\n",
    "seq = [i for i in range(10)]\n",
    "print(seq)\n",
    "\n",
    "s = []\n",
    "for i in range(10):\n",
    "    if i%2 == 1:\n",
    "        s.append(i**2)\n",
    "print(s)\n",
    "\n",
    "squares = [i**2 for i in range(10) if i%2 == 1]\n",
    "print(squares)"
   ]
  },
  {
   "cell_type": "code",
   "execution_count": 7,
   "id": "48f65cdc",
   "metadata": {},
   "outputs": [
    {
     "name": "stdout",
     "output_type": "stream",
     "text": [
      "('BTS', '볼빨간사춘기', 'BTS', '블랙핑크', '태연')\n",
      "('작은 것들을 위한 시', '나만, 봄', '소우주', 'Kill This Love', '사계')\n",
      "2\n",
      "1\n",
      "0\n",
      "\n",
      "BTS: 작은 것들을 위한 시\n",
      "볼빨간사춘기: 나만, 봄\n",
      "BTS: 소우주\n",
      "블랙핑크: Kill This Love\n",
      "태연: 사계\n"
     ]
    }
   ],
   "source": [
    "#5-12\n",
    "singer = ('BTS','볼빨간사춘기','BTS','블랙핑크','태연')\n",
    "song = ('작은 것들을 위한 시','나만, 봄','소우주','Kill This Love','사계')\n",
    "print(singer)\n",
    "print(song)\n",
    "\n",
    "print(singer.count('BTS'))\n",
    "print(singer.index('볼빨간사춘기'))\n",
    "print(singer.index('BTS'))\n",
    "print()\n",
    "\n",
    "for _ in range(len(singer)):\n",
    "    print('%s: %s' % (singer[_], song[_]))"
   ]
  },
  {
   "cell_type": "code",
   "execution_count": 15,
   "id": "7525db4a",
   "metadata": {},
   "outputs": [
    {
     "name": "stdout",
     "output_type": "stream",
     "text": [
      "['축구', '야구', '농구', '배구']\n",
      "[11, 9, 5, 6]\n",
      "축구 : 11명 야구 : 9명 농구 : 5명 배구 : 6명  \n",
      "[['축구', '야구', '농구', '배구'], [11, 9, 5, 6]]\n",
      "축구 : 11명 야구 : 9명 농구 : 5명 배구 : 6명 "
     ]
    }
   ],
   "source": [
    "#project lab1\n",
    "sports = ['축구','야구','농구','배구']\n",
    "num = [11, 9, 5, 6]\n",
    "print(sports)\n",
    "print(num)\n",
    "for i in range(4):\n",
    "    print('{} : {}명'.format(sports[i], num[i]), end = ' ')\n",
    "print(' ')\n",
    "\n",
    "sponum = [sports, num]\n",
    "print(sponum)\n",
    "for i in range(4):\n",
    "    print('{} : {}명'.format(sponum[0][i], sponum[1][i]), end = ' ')\n",
    "    \n",
    "print(' ')\n",
    "\n",
    "\n"
   ]
  },
  {
   "cell_type": "code",
   "execution_count": null,
   "id": "30f0a991",
   "metadata": {},
   "outputs": [],
   "source": []
  }
 ],
 "metadata": {
  "kernelspec": {
   "display_name": "Python 3 (ipykernel)",
   "language": "python",
   "name": "python3"
  },
  "language_info": {
   "codemirror_mode": {
    "name": "ipython",
    "version": 3
   },
   "file_extension": ".py",
   "mimetype": "text/x-python",
   "name": "python",
   "nbconvert_exporter": "python",
   "pygments_lexer": "ipython3",
   "version": "3.11.4"
  }
 },
 "nbformat": 4,
 "nbformat_minor": 5
}
