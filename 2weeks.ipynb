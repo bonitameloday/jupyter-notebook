{
 "cells": [
  {
   "cell_type": "code",
   "execution_count": null,
   "id": "03baf041",
   "metadata": {},
   "outputs": [],
   "source": [
    "import time\n",
    "\n",
    "start = time.time()\n",
    "sum = 0\n",
    "for i in range(1, 100000001):\n",
    "    sum = sum+i\n",
    "    \n",
    "end = time.time()\n",
    "\n",
    "print('1+2+...+100000000 = ', sum)\n",
    "print('소요 시간은 ', end - start, '초입니다.')"
   ]
  },
  {
   "cell_type": "code",
   "execution_count": 12,
   "id": "3f45f612",
   "metadata": {},
   "outputs": [
    {
     "name": "stdin",
     "output_type": "stream",
     "text": [
      "경기가 열린 곳은?  r\n",
      "경기가 열린 시간은?  r\n",
      "상태 팀은?  r\n",
      "손흥민은 몇 골을 넣었나요?  1\n",
      "도움은 몇 개인가요?  2\n",
      "손흥민 팀이 넣은 골 수는?  3\n",
      "상대 팀이 넣은 골 수는?  4\n"
     ]
    },
    {
     "name": "stdout",
     "output_type": "stream",
     "text": [
      "\n",
      "[프리미어 리그 속보(2024-03-13 22:46:05.828916)]\n",
      "손흥민 선수는 r에서 r에 열린 경기에 출전하였습니다. 상대 팀은 r입니다. 손흥민 선수의 팀이 3골을 넣어 4골을 넣은 상태 팀에게 졌습니다.손흥민 선수는 1골에 도움2개로 승리를 크게 이끌었습니다.\n"
     ]
    }
   ],
   "source": [
    "from datetime import datetime\n",
    "import random\n",
    "\n",
    "place = input('경기가 열린 곳은? ')\n",
    "time = input('경기가 열린 시간은? ')\n",
    "opponent = input('상태 팀은? ')\n",
    "goals = input('손흥민은 몇 골을 넣었나요? ')\n",
    "aids = input('도움은 몇 개인가요? ')\n",
    "score_me = input('손흥민 팀이 넣은 골 수는? ')\n",
    "score_you = input('상대 팀이 넣은 골 수는? ')\n",
    "\n",
    "print()\n",
    "\n",
    "news = \"[프리미어 리그 속보(\" + str(datetime.now()) + \")]\\n\"\n",
    "news = news + '손흥민 선수는 ' + place + '에서 ' + time + '에 열린 경기에 출전하였습니다. '\n",
    "news = news + '상대 팀은 ' + opponent + '입니다. '\n",
    "\n",
    "if score_me > score_you:\n",
    "    news = news + '손흥민 선수의 팀이 ' + score_me + '골을 넣어 ' + score_you + '골을 넣은 상대 팀을 이겼습니다.' \n",
    "elif score_me < score_you:\n",
    "    news = news + '손흥민 선수의 팀이 ' + score_me + '골을 넣어 ' + score_you +'골을 넣은 상태 팀에게 졌습니다.'\n",
    "else:\n",
    "    news = news+'두 팀은 '+ score_me + '대' + score_you + '로 비겼습니다.'\n",
    "\n",
    "if int(goals) > 0 and int(aids) > 0:\n",
    "     news = news+'손흥민 선수는 ' + goals +'골에 도움'+aids+'개로 승리를 크게 이끌었습니다.'\n",
    "elif int(goals) > 0 and int(aids) == 0:\n",
    "    news = news+'손흥민 선수는 ' +goals+'골로 승리를 이끌었습니다.'\n",
    "elif int(goals) == 0 and int(aids) > 0:\n",
    "    news = news+'손흥민 선수는 골은 없지만 도움 '+aids+'개로 승리하는 데 공헌하였습니다.'\n",
    "else:\n",
    "    news = news+'아쉽게도 이번 경기에서 손흥민의 발끝은 침묵을 지켰습니다.'\n",
    "print(news)"
   ]
  },
  {
   "cell_type": "code",
   "execution_count": null,
   "id": "020d92c1",
   "metadata": {},
   "outputs": [],
   "source": [
    "!pip install gtts playsound"
   ]
  },
  {
   "cell_type": "code",
   "execution_count": null,
   "id": "b9362e29",
   "metadata": {},
   "outputs": [],
   "source": [
    "!pip install playsound==1.2.2"
   ]
  },
  {
   "cell_type": "code",
   "execution_count": null,
   "id": "dd4db23d",
   "metadata": {},
   "outputs": [],
   "source": [
    "from datetime import datetime\n",
    "import random\n",
    "\n",
    "place = input('경기가 열린 곳은? ')\n",
    "time = input('경기가 열린 시간은? ')\n",
    "opponent = input('상태 팀은? ')\n",
    "goals = input('손흥민은 몇 골을 넣었나요? ')\n",
    "aids = input('도움은 몇 개인가요? ')\n",
    "score_me = input('손흥민 팀이 넣은 골 수는? ')\n",
    "score_you = input('상대 팀이 넣은 골 수는? ')\n",
    "\n",
    "print()\n",
    "\n",
    "news = \"[프리미어 리그 속보(\" + str(datetime.now()) + \")]\\n\"\n",
    "news = news + '손흥민 선수는 ' + place + '에서 ' + time + '에 열린 경기에 출전하였습니다. '\n",
    "news = news + '상대 팀은 ' + opponent + '입니다. '\n",
    "\n",
    "if score_me > score_you:\n",
    "    wording = [\"상대 팀을 이겼습니다. \", \" 상대를 대상으로 통쾌한 승리를 거머쥐었습니다. \", '상대 팀을 꺾었습니다.']\n",
    "    news = news + '손흥민 선수의 팀이 ' + score_me + '골을 넣어 ' + score_you + '골은 넣은 ' + random.choice(wording)\n",
    "elif score_me < score_you:\n",
    "    news = news + '손흥민 선수의 팀이 ' + score_me + '골을 넣어 ' + score_you +'골을 넣은 상태 팀에게 졌습니다.'\n",
    "else:\n",
    "    news = news+'두 팀은 '+ score_me + '대' + score_you + '로 비겼습니다.'\n",
    "\n",
    "if int(goals) > 0 and int(aids) > 0:\n",
    "     news = news+'손흥민 선수는 ' + goals +'골에 도움'+aids+'개로 승리를 크게 이끌었습니다.'\n",
    "elif int(goals) > 0 and int(aids) == 0:\n",
    "    news = news+'손흥민 선수는 ' +goals+'골로 승리를 이끌었습니다.'\n",
    "elif int(goals) == 0 and int(aids) > 0:\n",
    "    news = news+'손흥민 선수는 골은 없지만 도움 '+aids+'개로 승리하는 데 공헌하였습니다.'\n",
    "else:\n",
    "    news = news+'아쉽게도 이번 경기에서 손흥민의 발끝은 침묵을 지켰습니다.'\n",
    "print(news)"
   ]
  },
  {
   "cell_type": "code",
   "execution_count": null,
   "id": "43505869-c538-43f7-96bf-8cbb4fde6f80",
   "metadata": {},
   "outputs": [],
   "source": [
    "!pip install playsound==1.2.2"
   ]
  },
  {
   "cell_type": "code",
   "execution_count": null,
   "id": "47f4032e-5625-4139-8653-6ab7cbf1daf3",
   "metadata": {},
   "outputs": [],
   "source": [
    "from datetime import datetime\n",
    "import random\n",
    "\n",
    "place = input('경기가 열린 곳은? ')\n",
    "time = input('경기가 열린 시간은? ')\n",
    "opponent = input('상태 팀은? ')\n",
    "goals = input('손흥민은 몇 골을 넣었나요? ')\n",
    "aids = input('도움은 몇 개인가요? ')\n",
    "score_me = input('손흥민 팀이 넣은 골 수는? ')\n",
    "score_you = input('상대 팀이 넣은 골 수는? ')\n",
    "\n",
    "print()\n",
    "\n",
    "news = \"[프리미어 리그 속보(\" + str(datetime.now()) + \")]\\n\"\n",
    "news = news + '손흥민 선수는 ' + place + '에서 ' + time + '에 열린 경기에 출전하였습니다. '\n",
    "news = news + '상대 팀은 ' + opponent + '입니다. '\n",
    "\n",
    "if score_me > score_you:\n",
    "    news = news + '손흥민 선수의 팀이 ' + score_me + '골을 넣어 ' + score_you + '골을 넣은 상대 팀을 이겼습니다.' \n",
    "elif score_me < score_you:\n",
    "    news = news + '손흥민 선수의 팀이 ' + score_me + '골을 넣어 ' + score_you +'골을 넣은 상태 팀에게 졌습니다.'\n",
    "else:\n",
    "    news = news+'두 팀은 '+ score_me + '대' + score_you + '로 비겼습니다.'\n",
    "\n",
    "if int(goals) > 0 and int(aids) > 0:\n",
    "     news = news+'손흥민 선수는 ' + goals +'골에 도움'+aids+'개로 승리를 크게 이끌었습니다.'\n",
    "elif int(goals) > 0 and int(aids) == 0:\n",
    "    news = news+'손흥민 선수는 ' +goals+'골로 승리를 이끌었습니다.'\n",
    "elif int(goals) == 0 and int(aids) > 0:\n",
    "    news = news+'손흥민 선수는 골은 없지만 도움 '+aids+'개로 승리하는 데 공헌하였습니다.'\n",
    "else:\n",
    "    news = news+'아쉽게도 이번 경기에서 손흥민의 발끝은 침묵을 지켰습니다.'\n",
    "print(news)\n",
    "\n",
    "from gtts import gTTS\n",
    "import playsound\n",
    "import os\n",
    "\n",
    "tts = gTTS(text=news, lang='ko')\n",
    "tts.save(\"news_Son.mp3\")\n",
    "playsound.playsound(\"news_Son.mp3\",True)\n",
    "os.remove(\"news_Son.mp3\")"
   ]
  },
  {
   "cell_type": "code",
   "execution_count": null,
   "id": "550b47e6",
   "metadata": {},
   "outputs": [],
   "source": [
    "import random\n",
    "yut = ['xxxx', 'xxxo', 'xxox', 'xxoo', 'xoxx', 'xoxo', 'xoox', 'xooo', 'oxxx', 'oxxo', 'oxox', 'oxoo', 'ooxx', 'ooxo', 'ooox', 'oooo']\n",
    "throw = random.choice(yut)\n",
    "print(throw)\n",
    "n = throw.count('o')\n",
    "if n == 4:\n",
    "    print('모')\n",
    "elif n == 3:\n",
    "    print('도')\n",
    "elif n == 2:\n",
    "    print('개')\n",
    "elif n == 1:\n",
    "    print('걸')\n",
    "elif n == 0:\n",
    "    print('윷')"
   ]
  },
  {
   "cell_type": "code",
   "execution_count": 1,
   "id": "e1c6c943",
   "metadata": {},
   "outputs": [
    {
     "name": "stdout",
     "output_type": "stream",
     "text": [
      "0과 1 사이 실수의 합 =  49995316.0\n",
      "소요 시간은  79.63084936141968 초입니다.\n"
     ]
    }
   ],
   "source": [
    "import time\n",
    "from random import *\n",
    "\n",
    "start = time.time()\n",
    "sum = 0\n",
    "for i in range(1, 100000001):\n",
    "    rn = randint(0,1)\n",
    "    rn_1 = float(rn)\n",
    "    sum = sum+rn_1\n",
    "    \n",
    "end = time.time()\n",
    "\n",
    "print('0과 1 사이 실수의 합 = ', sum)\n",
    "print('소요 시간은 ', end - start, '초입니다.')"
   ]
  },
  {
   "cell_type": "code",
   "execution_count": 17,
   "id": "4692006c-3222-4cf4-978b-806defb4b392",
   "metadata": {},
   "outputs": [
    {
     "name": "stdin",
     "output_type": "stream",
     "text": [
      "경기가 열린 곳은?  ㄱ\n",
      "경기가 열린 시간은?  ㄱ\n",
      "상태 팀은?  ㄱ\n",
      "손흥민은 몇 골을 넣었나요?  1\n",
      "도움은 몇 개인가요?  2\n",
      "손흥민 팀이 넣은 골 수는?  3\n",
      "상대 팀이 넣은 골 수는?  4\n"
     ]
    },
    {
     "name": "stdout",
     "output_type": "stream",
     "text": [
      "\n",
      "2024-3-13 22:54 \n",
      "손흥민 선수는 ㄱ에서 ㄱ에 열린 경기에 출전하였습니다. 상대 팀은 ㄱ입니다. 손흥민 선수의 팀이 3골을 넣어 4골을 넣은 상태 팀에게 졌습니다.손흥민 선수는 1골에 도움2개로 승리를 크게 이끌었습니다.\n"
     ]
    }
   ],
   "source": [
    "from datetime import datetime\n",
    "import random\n",
    "\n",
    "place = input('경기가 열린 곳은? ')\n",
    "time = input('경기가 열린 시간은? ')\n",
    "opponent = input('상태 팀은? ')\n",
    "goals = input('손흥민은 몇 골을 넣었나요? ')\n",
    "aids = input('도움은 몇 개인가요? ')\n",
    "score_me = input('손흥민 팀이 넣은 골 수는? ')\n",
    "score_you = input('상대 팀이 넣은 골 수는? ')\n",
    "\n",
    "print()\n",
    "\n",
    "dt = datetime.now()\n",
    "news = '{}-{}-{} {}:{} \\n'.format(dt.year, dt.month, dt.day, dt.hour, dt.minute)\n",
    "#news = \"[프리미어 리그 속보(\" + str(datetime.now()) + \")]\\n\"\n",
    "news = news + '손흥민 선수는 ' + place + '에서 ' + time + '에 열린 경기에 출전하였습니다. '\n",
    "news = news + '상대 팀은 ' + opponent + '입니다. '\n",
    "\n",
    "if score_me > score_you:\n",
    "    news = news + '손흥민 선수의 팀이 ' + score_me + '골을 넣어 ' + score_you + '골을 넣은 상대 팀을 이겼습니다.' \n",
    "elif score_me < score_you:\n",
    "    news = news + '손흥민 선수의 팀이 ' + score_me + '골을 넣어 ' + score_you +'골을 넣은 상태 팀에게 졌습니다.'\n",
    "else:\n",
    "    news = news+'두 팀은 '+ score_me + '대' + score_you + '로 비겼습니다.'\n",
    "\n",
    "if int(goals) > 0 and int(aids) > 0:\n",
    "     news = news+'손흥민 선수는 ' + goals +'골에 도움'+aids+'개로 승리를 크게 이끌었습니다.'\n",
    "elif int(goals) > 0 and int(aids) == 0:\n",
    "    news = news+'손흥민 선수는 ' +goals+'골로 승리를 이끌었습니다.'\n",
    "elif int(goals) == 0 and int(aids) > 0:\n",
    "    news = news+'손흥민 선수는 골은 없지만 도움 '+aids+'개로 승리하는 데 공헌하였습니다.'\n",
    "else:\n",
    "    news = news+'아쉽게도 이번 경기에서 손흥민의 발끝은 침묵을 지켰습니다.'\n",
    "print(news)"
   ]
  }
 ],
 "metadata": {
  "kernelspec": {
   "display_name": "Python 3 (ipykernel)",
   "language": "python",
   "name": "python3"
  },
  "language_info": {
   "codemirror_mode": {
    "name": "ipython",
    "version": 3
   },
   "file_extension": ".py",
   "mimetype": "text/x-python",
   "name": "python",
   "nbconvert_exporter": "python",
   "pygments_lexer": "ipython3",
   "version": "3.11.8"
  }
 },
 "nbformat": 4,
 "nbformat_minor": 5
}
