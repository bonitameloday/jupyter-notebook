{
 "cells": [
  {
   "cell_type": "code",
   "execution_count": 2,
   "id": "7df82161",
   "metadata": {},
   "outputs": [
    {
     "name": "stdout",
     "output_type": "stream",
     "text": [
      "처음 하는 함수 호출 hello()\n",
      "\tHello, Python!\n",
      "함수 호출 hello() 이후\n",
      "1\n",
      "<function helloint at 0x000001F5E0EA0720>\n",
      "\t 77\n",
      "3\n"
     ]
    }
   ],
   "source": [
    "#7-1\n",
    "def hello():\n",
    "    print('\\tHello, Python!')\n",
    "def helloint():\n",
    "    print('\\t', 77)\n",
    "\n",
    "print('처음 하는 함수 호출 hello()')\n",
    "hello()\n",
    "print('함수 호출 hello() 이후')\n",
    "\n",
    "print(1)\n",
    "print(helloint)\n",
    "helloint()\n",
    "print(3)"
   ]
  },
  {
   "cell_type": "code",
   "execution_count": 5,
   "id": "a2c8d3ce",
   "metadata": {},
   "outputs": [
    {
     "name": "stdout",
     "output_type": "stream",
     "text": [
      "i:  20\n",
      "\t지역변수 i :  31\n",
      "i:  20\n"
     ]
    }
   ],
   "source": [
    "#7-6\n",
    "def addone():\n",
    "    i = 30\n",
    "    i += 1\n",
    "    print('\\t지역변수 i : ', i)\n",
    "    \n",
    "i= 20\n",
    "print('i: ',i)\n",
    "addone()\n",
    "print('i: ',i)"
   ]
  },
  {
   "cell_type": "code",
   "execution_count": 6,
   "id": "ac88e5f3",
   "metadata": {},
   "outputs": [
    {
     "name": "stdout",
     "output_type": "stream",
     "text": [
      "i =  20\n",
      "\t 전역 변수 i 읽기, i + 1 21\n",
      "i =  21\n"
     ]
    }
   ],
   "source": [
    "#7-8\n",
    "def addone():\n",
    "    global i\n",
    "    print('\\t 전역 변수 i 읽기, i + 1', i + 1)\n",
    "    i+=1\n",
    "\n",
    "i = 20\n",
    "print('i = ', i)\n",
    "addone()\n",
    "print('i = ', i)"
   ]
  },
  {
   "cell_type": "code",
   "execution_count": 9,
   "id": "83d64591",
   "metadata": {},
   "outputs": [
    {
     "name": "stdout",
     "output_type": "stream",
     "text": [
      "안녕, 나타샤!\n",
      "안녕, 수빈!\n",
      "안녕, 현수!\n",
      "안녕, 지효!\n",
      "안녕, 방탄소년단!\n",
      "안녕, 여자친구!\n",
      "안녕, ['방탄소년단', '여자친구']!\n"
     ]
    }
   ],
   "source": [
    "#7-9\n",
    "def hello(*names):\n",
    "    for each in names:\n",
    "        print(\"안녕, {}!\".format(each))\n",
    "hello('나타샤')\n",
    "hello('수빈', '현수', '지효')\n",
    "hello(*['방탄소년단', '여자친구'])\n",
    "hello(['방탄소년단', '여자친구'])"
   ]
  },
  {
   "cell_type": "code",
   "execution_count": 12,
   "id": "292ade5b",
   "metadata": {},
   "outputs": [
    {
     "name": "stdout",
     "output_type": "stream",
     "text": [
      "여자친구 : 6 마마무 : 4 \n",
      "엑소 : 9 트와이스 : 9 블랙핑크 : 4 방탄소년단 : 7 \n",
      "에스프레소 : 2500 아메리카노 : 2800 카페라떼 : 3200 \n",
      "brand : 현대 model : 제네시스 year : 2016 \n"
     ]
    }
   ],
   "source": [
    "#7-10\n",
    "def mykeyprint(**kwargs):\n",
    "    for key in kwargs:\n",
    "        print('{} : {}'.format(key, kwargs[key]), end = ' ')\n",
    "    print()\n",
    "    \n",
    "mykeyprint(여자친구=6, 마마무=4)\n",
    "mykeyprint(엑소=9, 트와이스=9, 블랙핑크=4, 방탄소년단=7)\n",
    "\n",
    "coffeeprice = {'에스프레소' : 2500, '아메리카노' : 2800, '카페라떼' : 3200}\n",
    "mycar = {'brand' : '현대', 'model' : '제네시스', 'year' : 2016}\n",
    "mykeyprint(**coffeeprice)\n",
    "mykeyprint(**mycar)"
   ]
  },
  {
   "cell_type": "code",
   "execution_count": 16,
   "id": "5a552730",
   "metadata": {},
   "outputs": [
    {
     "name": "stdout",
     "output_type": "stream",
     "text": [
      "10006\n",
      "10009\n"
     ]
    }
   ],
   "source": [
    "#7-12\n",
    "def sumvalue(*values, **kwargs):\n",
    "    hap = 0\n",
    "    \n",
    "    for v in values:\n",
    "        hap += v\n",
    "    for key in kwargs:\n",
    "        hap += kwargs[key]\n",
    "    return hap\n",
    "coffeeprices = {'value' : 2000, '에스프레소' : 2000, '아메리카노' : 2800, '카페라떼': 3200}\n",
    "print(sumvalue(1,2,3, **coffeeprices))\n",
    "print(sumvalue(*[2,3,4], **coffeeprices))"
   ]
  },
  {
   "cell_type": "code",
   "execution_count": 20,
   "id": "d54c1a77",
   "metadata": {},
   "outputs": [
    {
     "name": "stdout",
     "output_type": "stream",
     "text": [
      "['core', 'defining', 'extensible', 'functions.', 'is', 'of', 'programming', 'The']\n",
      "['defining', 'of', 'The', 'core', 'programming', 'is', 'functions.', 'extensible']\n",
      "[('방탄소년단', 7), ('블랙핑크', 4), ('잔나비', 5), ('트와이스', 9)]\n",
      "[('블랙핑크', 4), ('잔나비', 5), ('방탄소년단', 7), ('트와이스', 9)]\n"
     ]
    }
   ],
   "source": [
    "#7-14\n",
    "words = \"The core of extensible programming is defining functions.\".split()\n",
    "print(sorted(words, key = str.lower))\n",
    "print(sorted(words, key = lambda word: word[1]))\n",
    "\n",
    "groupnumber = [('잔나비', 5), ('트와이스', 9), ('블랙핑크',4), ('방탄소년단', 7)]\n",
    "print(sorted(groupnumber))\n",
    "print(sorted(groupnumber, key = lambda singer: singer[1]))"
   ]
  },
  {
   "cell_type": "code",
   "execution_count": 2,
   "id": "3ba9f4d7",
   "metadata": {},
   "outputs": [
    {
     "name": "stdout",
     "output_type": "stream",
     "text": [
      "반지름 3 ==> 원 면적 28.26\n",
      "반지름 5 ==> 원 면적 78.5\n",
      "반지름 7 ==> 원 면적 153.86\n",
      "반지름 10 ==> 원 면적 314.0\n"
     ]
    }
   ],
   "source": [
    "'''이터러블은 순회 가능한 데이터 컬렉션을 나타내는 개념 -> 순회 가능한 객체\n",
    "iterator는 반복자'''\n",
    "#7-15\n",
    "circle = [3,5,7,10]\n",
    "area = list(map(lambda r : r * r * 3.14, circle))\n",
    "\n",
    "for c, a in zip(circle, area):\n",
    "    print('반지름 {} ==> 원 면적 {}'.format(c,a))"
   ]
  },
  {
   "cell_type": "code",
   "execution_count": 3,
   "id": "f5c6f7c4",
   "metadata": {},
   "outputs": [
    {
     "name": "stdout",
     "output_type": "stream",
     "text": [
      "[6, 21, 33, 43, 46, 56, 59, 59, 82, 84]\n",
      "합: 489, 평균: 48.9\n",
      "최대: 84, 최소: 6\n"
     ]
    }
   ],
   "source": [
    "#project1\n",
    "from random import randint\n",
    "def setsequence(start, end, count):\n",
    "    global nums\n",
    "    for _ in range(count):\n",
    "        nums.append(randint(start, end))\n",
    "nums = []\n",
    "setsequence(1,100,10)\n",
    "print(sorted(nums))\n",
    "print('합: {}, 평균: {}'.format(sum(nums), sum(nums) / len(nums)))\n",
    "print('최대: {}, 최소: {}'.format(max(nums), min(nums)))"
   ]
  },
  {
   "cell_type": "code",
   "execution_count": null,
   "id": "bbe9e45b",
   "metadata": {},
   "outputs": [],
   "source": [
    "#project2"
   ]
  }
 ],
 "metadata": {
  "kernelspec": {
   "display_name": "Python 3 (ipykernel)",
   "language": "python",
   "name": "python3"
  },
  "language_info": {
   "codemirror_mode": {
    "name": "ipython",
    "version": 3
   },
   "file_extension": ".py",
   "mimetype": "text/x-python",
   "name": "python",
   "nbconvert_exporter": "python",
   "pygments_lexer": "ipython3",
   "version": "3.11.4"
  }
 },
 "nbformat": 4,
 "nbformat_minor": 5
}
