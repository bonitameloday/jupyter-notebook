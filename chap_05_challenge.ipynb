{
 "cells": [
  {
   "cell_type": "code",
   "execution_count": 6,
   "id": "fbe3af21",
   "metadata": {},
   "outputs": [
    {
     "name": "stdout",
     "output_type": "stream",
     "text": [
      "리스트 [51, 3, 97, 91, 48, 68, 49, 57, 10, 63]\n",
      "정렬 리스트 [3, 10, 48, 49, 51, 57, 63, 68, 91, 97]\n",
      "역순 리스트 [97, 91, 68, 63, 57, 51, 49, 48, 10, 3]\n"
     ]
    }
   ],
   "source": [
    "#01\n",
    "from random import randint\n",
    "num = [randint(1,99) for i in range(10)]\n",
    "print('리스트 {}'.format(num)) # 리스트\n",
    "\n",
    "a_num = sorted(num) # 정렬 리스트\n",
    "print('정렬 리스트 {}'.format(a_num))\n",
    "\n",
    "d_num = sorted(a_num, reverse = True) # 역순 리스트\n",
    "print('역순 리스트 {}'.format(d_num))    "
   ]
  },
  {
   "cell_type": "code",
   "execution_count": 2,
   "id": "3a8a99c2",
   "metadata": {},
   "outputs": [
    {
     "name": "stdout",
     "output_type": "stream",
     "text": [
      "찾을 단어 입력? ㅇㄹㄴㄹ\n",
      "찾을 수 없는 단어입니다.\n"
     ]
    }
   ],
   "source": [
    "#02\n",
    "korean = ('정렬', '초보자', '내포', '사전')\n",
    "english = ('sorting', 'novice', 'comprehension', 'dictionary')\n",
    "\n",
    "text = input('찾을 단어 입력? ')\n",
    "if text == '정렬':\n",
    "    print(english[0])\n",
    "elif text == '초보자':\n",
    "    print(english[1])\n",
    "elif text == '내포':\n",
    "    print(english[2])\n",
    "elif text == '사전':\n",
    "    print(english[3])\n",
    "else:\n",
    "    print('찾을 수 없는 단어입니다.')"
   ]
  },
  {
   "cell_type": "code",
   "execution_count": 4,
   "id": "c178f770",
   "metadata": {},
   "outputs": [
    {
     "name": "stdout",
     "output_type": "stream",
     "text": [
      "['H', 'e', 'l', 'l', 'o', 'P', 'y', 't', 'h', 'o', 'n', '!']\n",
      "+ 012345678901\n",
      "HelloPython!\n",
      "- 21987654321\n",
      "슬라이스[?:?:?] 3개 입력 >> 3 10 2\n",
      "['l', 'P', 't', 'o']\n",
      "슬라이스[?:?:?] 3개 입력 >> 0 0 0\n",
      "**************종료**************\n"
     ]
    }
   ],
   "source": [
    "#03\n",
    "listA = list('HelloPython!')\n",
    "print('+ 012345678901')\n",
    "print('HelloPython!')\n",
    "print('- 21987654321')\n",
    "\n",
    "while True:\n",
    "    a, b, c = map(int,input('슬라이스[?:?:?] 3개 입력 >> ').split())\n",
    "    \n",
    "    if a == 0 and b == 0 and c == 0:\n",
    "        print('종료'.center(30, '*'))\n",
    "        break\n",
    "    else:\n",
    "        print(listA[a:b:c])"
   ]
  },
  {
   "cell_type": "code",
   "execution_count": 5,
   "id": "385a44ee",
   "metadata": {},
   "outputs": [
    {
     "name": "stdout",
     "output_type": "stream",
     "text": [
      "각 행의 합:  [6, 15, 24]\n",
      "각 열의 합:  [12, 15, 18]\n"
     ]
    }
   ],
   "source": [
    "#04\n",
    "data = [[1,2,3], \n",
    "        [4,5,6], \n",
    "        [7,8,9]]\n",
    "\n",
    "rsum = [0,0,0] # 행의 합\n",
    "csum = [0,0,0] # 열의 합\n",
    "\n",
    "for i in range(0,3):\n",
    "    sum = 0 # 행의 합\n",
    "    sum1 = 0; # 열의 합\n",
    "    for j in range(0,3):\n",
    "        sum += data[i][j]\n",
    "        sum1 += data[j][i]\n",
    "    rsum[i] = sum\n",
    "    csum[i] = sum1\n",
    "print('각 행의 합: ',rsum)\n",
    "print('각 열의 합: ',csum)"
   ]
  },
  {
   "cell_type": "code",
   "execution_count": 7,
   "id": "d96d22f5",
   "metadata": {},
   "outputs": [
    {
     "name": "stdout",
     "output_type": "stream",
     "text": [
      "메소드 insert()로 팀원 수 삽입\n",
      "['축구', 11, '야구', 9, '농구', 5, '배구', 6]\n",
      "\n",
      "메소드 insert()로 '' 삽입\n",
      "['축구', '', '야구', '', '농구', '', '배구', '']\n",
      "\n",
      "슬라이스 sports[1::2]에 num을 대입\n",
      "['축구', 11, '야구', 9, '농구', 5, '배구', 6]\n"
     ]
    }
   ],
   "source": [
    "#05\n",
    "sports = ['축구', '야구', '농구', '배구']\n",
    "num = [11, 9, 5, 6]\n",
    "\n",
    "print('메소드 insert()로 팀원 수 삽입')\n",
    "sports.insert(1, 11)\n",
    "sports.insert(3, 9)\n",
    "sports.insert(5, 5)\n",
    "sports.insert(7,6)\n",
    "print(sports)\n",
    "print()\n",
    "\n",
    "sports.remove(11)\n",
    "sports.remove(9)\n",
    "sports.remove(5)\n",
    "sports.remove(6)\n",
    "\n",
    "print('메소드 insert()로 \\'\\' 삽입')\n",
    "sports.insert(1, '')\n",
    "sports.insert(3, '')\n",
    "sports.insert(5, '')\n",
    "sports.insert(7,'')\n",
    "print(sports)\n",
    "print()\n",
    "\n",
    "print('슬라이스 sports[1::2]에 num을 대입')\n",
    "sports[1::2] = [11, 9, 5, 6] \n",
    "print(sports)"
   ]
  },
  {
   "cell_type": "code",
   "execution_count": 8,
   "id": "d8a82d43",
   "metadata": {},
   "outputs": [
    {
     "name": "stdout",
     "output_type": "stream",
     "text": [
      "원 행렬(m) 출력: \n",
      "\n",
      "\n",
      "1 2 \n",
      "\n",
      "3 4 \n",
      "\n",
      "5 6 \n",
      "\n",
      "7 8 \n",
      "\n",
      "\n",
      "전치 행렬 출력: \n",
      "\n",
      "\n",
      "1 3 5 7 \n",
      "\n",
      "2 4 6 8 "
     ]
    }
   ],
   "source": [
    "#06\n",
    "m = [[1,2],[3,4],[5,6],[7,8]]\n",
    "print('원 행렬(m) 출력: ')\n",
    "for i in range(4):\n",
    "    print('\\n')\n",
    "    for j in range(2):\n",
    "        print(m[i][j], end = ' ')\n",
    "print('\\n\\n')\n",
    "print('전치 행렬 출력: ')\n",
    "for i in range(2):\n",
    "    print('\\n')\n",
    "    for j in range(4):\n",
    "        print(m[j][i], end = ' ')  "
   ]
  },
  {
   "cell_type": "code",
   "execution_count": 9,
   "id": "1b409983",
   "metadata": {},
   "outputs": [
    {
     "name": "stdout",
     "output_type": "stream",
     "text": [
      "트랜스포즈를 컴프리헨션으로 만들어 그대로 출력\n",
      "[[1, 3, 5, 7], [2, 4, 6, 8]]\n",
      "\n",
      "트랜스포즈를 for문으로 출력\n",
      "1 3 5 7 \n",
      "2 4 6 8 \n"
     ]
    }
   ],
   "source": [
    "#07\n",
    "m = [[1,2], [3,4], [5,6], [7,8]]\n",
    "transpose = [[row[i] for row in m] for i in range(len(m[0]))]\n",
    "\n",
    "print('트랜스포즈를 컴프리헨션으로 만들어 그대로 출력')\n",
    "print(transpose)\n",
    "print()\n",
    "print('트랜스포즈를 for문으로 출력')\n",
    "for row in transpose:\n",
    "    for element in row:\n",
    "        print(element, end = ' ')\n",
    "    print()"
   ]
  },
  {
   "cell_type": "code",
   "execution_count": 1,
   "id": "1291cbe3",
   "metadata": {
    "scrolled": true
   },
   "outputs": [
    {
     "name": "stdout",
     "output_type": "stream",
     "text": [
      "리스트: [50, 18, 39, 57, 71, 11, 28, 61, 25, 93]\n",
      "튜플: (50, 18, 39, 57, 71, 11, 28, 61, 25, 93)\n",
      "튜플 정렬된 리스트: [11, 18, 25, 28, 39, 50, 57, 61, 71, 93]\n",
      "\n",
      "합: 453, 항목수: 10\n",
      "최대: 93, 최소: 11, 평균: 45.3\n"
     ]
    }
   ],
   "source": [
    "#08\n",
    "from random import randint\n",
    "\n",
    "numList = [randint(1,99) for i in range(10)]\n",
    "print('리스트: {}'.format(numList)) # 리스트 생성\n",
    "\n",
    "numTuple = tuple(numList)\n",
    "print('튜플: {}'.format(numTuple)) # 리스트를 튜플로 변환\n",
    "\n",
    "tupleToList = sorted(numTuple)\n",
    "print('튜플 정렬된 리스트: {}'.format(tupleToList)) # 리스트 정렬\n",
    "print()\n",
    "\n",
    "hap = sum(numTuple) # 합\n",
    "itemCount = len(numTuple) #항목수\n",
    "print('합: {}, 항목수: {}'.format(hap,itemCount)) \n",
    "\n",
    "maxNum = max(numTuple) # 최대\n",
    "minNum = min(numTuple) # 최소\n",
    "avg = sum(numTuple) / len(numTuple) # 평균\n",
    "print('최대: {}, 최소: {}, 평균: {}'.format(maxNum, minNum, avg))"
   ]
  }
 ],
 "metadata": {
  "kernelspec": {
   "display_name": "Python 3 (ipykernel)",
   "language": "python",
   "name": "python3"
  },
  "language_info": {
   "codemirror_mode": {
    "name": "ipython",
    "version": 3
   },
   "file_extension": ".py",
   "mimetype": "text/x-python",
   "name": "python",
   "nbconvert_exporter": "python",
   "pygments_lexer": "ipython3",
   "version": "3.11.4"
  }
 },
 "nbformat": 4,
 "nbformat_minor": 5
}
