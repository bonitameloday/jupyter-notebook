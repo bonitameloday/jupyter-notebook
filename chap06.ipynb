{
 "cells": [
  {
   "cell_type": "code",
   "execution_count": 2,
   "id": "c431f676",
   "metadata": {},
   "outputs": [
    {
     "name": "stdout",
     "output_type": "stream",
     "text": [
      "{'강좌명': '파이썬 기초', '개설년도': [2020, 1], '학점시수': (3, 3), '교수': '김민국'}\n",
      "4\n",
      "\n",
      "[2020, 1] (3, 3)\n",
      "파이썬 기초 김민국\n"
     ]
    }
   ],
   "source": [
    "#6-2\n",
    "lect = dict()\n",
    "lect['강좌명'] = \"파이썬 기초\";\n",
    "lect['개설년도'] = [2020, 1];\n",
    "lect['학점시수'] = (3,3);\n",
    "lect['교수'] = '김민국';\n",
    "print(lect)\n",
    "print(len(lect))\n",
    "print()\n",
    "\n",
    "print(lect['개설년도'], lect['학점시수'])\n",
    "print(lect['강좌명'], lect['교수'])"
   ]
  },
  {
   "cell_type": "code",
   "execution_count": 5,
   "id": "c0cf40af",
   "metadata": {},
   "outputs": [
    {
     "name": "stdout",
     "output_type": "stream",
     "text": [
      "{'그룹명': '방탄소년단', '인원수': 7, '리더': '김남준', '소속사': '빅히트 엔터테인먼트'}\n",
      "{'그룹명': '방탄소년단', '인원수': 7}\n",
      "{'리더': '김남준', '소속사': '빅히트 엔터테인먼트'}\n",
      "{'그룹명': '방탄소년단', '인원수': 7, '리더': '김남준', '소속사': '빅히트 엔터테인먼트', '구성원': ['RM', '진', '슈가', '제이홉', '지민', '뷔', '정국']}\n",
      "['RM', '진', '슈가', '제이홉', '지민', '뷔', '정국']\n"
     ]
    }
   ],
   "source": [
    "#6-3\n",
    "bts1 = {'그룹명' : '방탄소년단', '인원수' : 7, '리더' : '김남준'}\n",
    "bts1['소속사'] = '빅히트 엔터테인먼트'\n",
    "print(bts1)\n",
    "bts2 = dict([['그룹명', '방탄소년단'], ['인원수', 7]])\n",
    "print(bts2)\n",
    "bts3 = dict((('리더', '김남준'), ('소속사', '빅히트 엔터테인먼트')))\n",
    "print(bts3)\n",
    "\n",
    "bts = dict(그룹명 = '방탄소년단', 인원수=7, 리더 = '김남준', 소속사 = '빅히트 엔터테인먼트')\n",
    "bts['구성원'] = ['RM', '진', '슈가', '제이홉', '지민', '뷔', '정국']\n",
    "\n",
    "print(bts)\n",
    "print(bts['구성원'])"
   ]
  },
  {
   "cell_type": "code",
   "execution_count": 1,
   "id": "990db99b",
   "metadata": {},
   "outputs": [
    {
     "name": "stdout",
     "output_type": "stream",
     "text": [
      "dict_keys(['봄', '여름', '가을', '겨울'])\n",
      "dict_items([('봄', 'spring'), ('여름', 'summer'), ('가을', 'autumn'), ('겨울', 'winter')])\n",
      "dict_values(['spring', 'summer', 'autumn', 'winter'])\n",
      "봄 spring \n",
      "여름 summer \n",
      "가을 autumn \n",
      "겨울 winter \n",
      "봄 spring 여름 summer 가을 autumn 겨울 winter \n",
      "봄 spring 여름 summer 가을 autumn 겨울 winter \n"
     ]
    }
   ],
   "source": [
    "#6-5\n",
    "season = {'봄' : 'spring', '여름' : 'summer', '가을' : 'autumn', '겨울' : 'winter'}\n",
    "print(season.keys())\n",
    "print(season.items())\n",
    "print(season.values())\n",
    "\n",
    "for key in season.keys():\n",
    "    print('%s %s ' %(key,season[key]))\n",
    "    \n",
    "for item in season.items():\n",
    "    print('{} {}'.format(item[0], item[1]), end = ' ')\n",
    "print()\n",
    "\n",
    "for item in season.items():\n",
    "    print('{} {}'.format(*item), end = ' ')\n",
    "print()"
   ]
  },
  {
   "cell_type": "code",
   "execution_count": 3,
   "id": "649ce46b",
   "metadata": {},
   "outputs": [
    {
     "name": "stdout",
     "output_type": "stream",
     "text": [
      "{'검은색': 'black', '흰색': 'white', '녹색': 'green', '파란색': 'blue'}\n",
      "green\n",
      "None\n",
      "\n",
      "{'검은색': 'black', '흰색': 'white', '녹색': 'green', '파란색': 'blue', '노란색': 'yellow'}\n",
      "\n",
      "삭제: 흰색 white\n",
      "{'검은색': 'black', '녹색': 'green', '파란색': 'blue', '노란색': 'yellow'}\n",
      "삭제: 빨간색 없어요\n",
      "임의 삭제: ('노란색', 'yellow')\n",
      "임의 삭제 후: {'검은색': 'black', '녹색': 'green', '파란색': 'blue'}\n",
      "검은색 삭제 후: {'녹색': 'green', '파란색': 'blue'}\n",
      "{}\n"
     ]
    }
   ],
   "source": [
    "#6-6\n",
    "color = dict(검은색 = 'black', 흰색 = 'white', 녹색 = 'green', 파란색 = 'blue')\n",
    "print(color)\n",
    "\n",
    "print(color.get('녹색'))\n",
    "print(color.get('노란색'))\n",
    "print()\n",
    "\n",
    "color['노란색'] = 'yellow'\n",
    "print(color)\n",
    "print()\n",
    "\n",
    "c = '흰색'\n",
    "print('삭제: %s %s'%(c, color.pop('흰색')))\n",
    "print(color)\n",
    "c = '빨간색'\n",
    "print('삭제: %s %s'%(c, color.pop(c, '없어요')))\n",
    "\n",
    "print('임의 삭제: {}'.format(color.popitem()))\n",
    "print('임의 삭제 후: {}'.format(color))\n",
    "\n",
    "c = '검은색'\n",
    "del color[c]\n",
    "print('{} 삭제 후: {}'.format(c,color))\n",
    "\n",
    "color.clear()\n",
    "print(color)"
   ]
  },
  {
   "cell_type": "code",
   "execution_count": 10,
   "id": "937b67b0",
   "metadata": {},
   "outputs": [
    {
     "name": "stdout",
     "output_type": "stream",
     "text": [
      "{'달', '별', '해'}\n",
      "{'감', '귤'}\n",
      "{'잣', '밤'}\n",
      "{('감', '귤'), '해달', ('밤', '잣')}\n"
     ]
    }
   ],
   "source": [
    "#6-7\n",
    "planets = set('해달별')\n",
    "fruits = set(['감', '귤'])\n",
    "nuts = {'밤', '잣'}\n",
    "things = {('밤','잣'), ('감','귤'), '해달'}\n",
    "\n",
    "print(planets)\n",
    "print(fruits)\n",
    "print(nuts)\n",
    "print(things)"
   ]
  },
  {
   "cell_type": "code",
   "execution_count": 12,
   "id": "f96ed6b9",
   "metadata": {},
   "outputs": [
    {
     "name": "stdout",
     "output_type": "stream",
     "text": [
      "11 3 13 17 23 25 \n",
      "집합 : {3, 11, 13, 17, 23, 25}\n",
      "정렬 리스트 : [3, 11, 13, 17, 23, 25]\n",
      "\n",
      "sample 함수 리스트: [38, 24, 4, 5, 43, 34]\n",
      "sample 함수 정렬 리스트 : [3, 11, 13, 17, 23, 25]\n"
     ]
    }
   ],
   "source": [
    "#6-8\n",
    "from random import randrange\n",
    "from random import sample\n",
    "\n",
    "mylotto = set()\n",
    "while True:\n",
    "    num = randrange(1,46)\n",
    "    print(num, end = ' ')\n",
    "    mylotto.add(num)\n",
    "    if len(mylotto) == 6:\n",
    "        break\n",
    "print()\n",
    "print('집합 : {}'.format(mylotto))\n",
    "print('정렬 리스트 : {}'.format(sorted(mylotto)))\n",
    "print()\n",
    "\n",
    "lotto = sample(range(1,46),6)\n",
    "print('sample 함수 리스트: {}'.format(lotto))\n",
    "print('sample 함수 정렬 리스트 : {}'.format(sorted(mylotto)))"
   ]
  },
  {
   "cell_type": "code",
   "execution_count": 14,
   "id": "900da703",
   "metadata": {},
   "outputs": [
    {
     "name": "stdout",
     "output_type": "stream",
     "text": [
      "['축구', '야구', '농구', '배구']\n",
      "[11, 9, 5, 6]\n",
      "\n",
      "함수 zip() :\n",
      "축구: 11명 야구: 9명 농구: 5명 배구: 6명 \n",
      "축구: 11명 야구: 9명 농구: 5명 배구: 6명 \n",
      "\n",
      "함수 dict(zip()):\n",
      "{'축구': 11, '야구': 9, '농구': 5, '배구': 6}\n"
     ]
    }
   ],
   "source": [
    "#6-10\n",
    "sports = ['축구', '야구', '농구', '배구']\n",
    "\n",
    "num = [11,9,5,6]\n",
    "print(sports)\n",
    "print(num)\n",
    "print()\n",
    "\n",
    "print('함수 zip() :')\n",
    "for s, i in zip(sports, num):\n",
    "    print('%s: %d명' %(s,i), end = ' ')\n",
    "print()\n",
    "for tp in zip(sports,num):\n",
    "    print('{}: {}명'.format(*tp), end = ' ')\n",
    "print(); print()\n",
    "\n",
    "print('함수 dict(zip()):')\n",
    "sportsnum = dict(zip(sports,num))\n",
    "print(sportsnum)"
   ]
  },
  {
   "cell_type": "code",
   "execution_count": null,
   "id": "e1019cb9",
   "metadata": {},
   "outputs": [],
   "source": []
  }
 ],
 "metadata": {
  "kernelspec": {
   "display_name": "Python 3 (ipykernel)",
   "language": "python",
   "name": "python3"
  },
  "language_info": {
   "codemirror_mode": {
    "name": "ipython",
    "version": 3
   },
   "file_extension": ".py",
   "mimetype": "text/x-python",
   "name": "python",
   "nbconvert_exporter": "python",
   "pygments_lexer": "ipython3",
   "version": "3.11.4"
  }
 },
 "nbformat": 4,
 "nbformat_minor": 5
}
