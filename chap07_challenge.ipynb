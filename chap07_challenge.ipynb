{
 "cells": [
  {
   "cell_type": "code",
   "execution_count": 4,
   "id": "100ffceb",
   "metadata": {},
   "outputs": [
    {
     "name": "stdout",
     "output_type": "stream",
     "text": [
      "5! =  120\n",
      "10! =  3628800\n",
      "20! =  2432902008176640000\n"
     ]
    }
   ],
   "source": [
    "#01\n",
    "#재귀함수 사용\n",
    "def factorial(n):\n",
    "    if(n > 1):\n",
    "        return n * factorial(n-1)\n",
    "    else:\n",
    "        return 1\n",
    "\n",
    "print('5! = ', factorial(5))\n",
    "print('10! = ', factorial(10))\n",
    "print('20! = ', factorial(20))"
   ]
  },
  {
   "cell_type": "code",
   "execution_count": 12,
   "id": "74aee794",
   "metadata": {},
   "outputs": [
    {
     "name": "stdout",
     "output_type": "stream",
     "text": [
      "예금 원금: 300000\n",
      "2년 총액: 330750.00\n",
      "4년 총액: 364651.88\n",
      "6년 총액: 402028.69\n",
      "8년 총액: 443236.63\n"
     ]
    }
   ],
   "source": [
    "#02\n",
    "def getinterest(money, rate, year):\n",
    "    total = money * (1+rate) ** year\n",
    "    return total\n",
    "\n",
    "print('예금 원금: 300000')\n",
    "print('2년 총액: {:.2f}' .format(getinterest(money = 300000, rate = 0.05, year = 2)))\n",
    "print('4년 총액: {:.2f}' .format(getinterest(money = 300000, rate = 0.05, year = 4)))\n",
    "print('6년 총액: {:.2f}' .format(getinterest(money = 300000, rate = 0.05, year = 6)))\n",
    "print('8년 총액: {:.2f}' .format(getinterest(money = 300000, rate = 0.05, year = 8)))"
   ]
  },
  {
   "cell_type": "code",
   "execution_count": 16,
   "id": "18282cfd",
   "metadata": {},
   "outputs": [
    {
     "name": "stdout",
     "output_type": "stream",
     "text": [
      "번호 선택 1. 갤론 => 리터 2. 리터 => 갤론 >> 2\n",
      "변환할 리터는? 6\n",
      "6.00 리터 == 1.58 갤론\n"
     ]
    }
   ],
   "source": [
    "#03\n",
    "def toliter(gallon):\n",
    "    return gallon * 3.785\n",
    "    \n",
    "def togallon(liter):\n",
    "    return liter * 0.264\n",
    "\n",
    "num = int(input('번호 선택 1. 갤론 => 리터 2. 리터 => 갤론 >> '))\n",
    "if num == 1:\n",
    "    gallon = int(input('변환할 갤론은? '))\n",
    "    print('{:.2f} 갤론 == {:.2f} 리터'.format(gallon, toliter(gallon)))\n",
    "    \n",
    "if num == 2:\n",
    "    liter = int(input('변환할 리터는? '))\n",
    "    print('{:.2f} 리터 == {:.2f} 갤론'.format(liter, togallon(liter)))"
   ]
  },
  {
   "cell_type": "code",
   "execution_count": 1,
   "id": "f4a646ae",
   "metadata": {},
   "outputs": [
    {
     "name": "stdout",
     "output_type": "stream",
     "text": [
      "태양계 행성의 크기(반지름)로 정렬\n",
      "[('태양', 695000, 0), ('목성', 71492, 5.2), ('지구', 6378, 1), ('금성', 6052, 0.7), ('화성', 3390, 1.5), ('수성', 2439, 0.4)]\n",
      "\n",
      "태양계 생성의 태양과의 거리로 정렬\n",
      "[('태양', 695000, 0), ('수성', 2439, 0.4), ('금성', 6052, 0.7), ('지구', 6378, 1), ('화성', 3390, 1.5), ('목성', 71492, 5.2)]\n"
     ]
    }
   ],
   "source": [
    "#04\n",
    "planets = [('수성', 2439, 0.4), ('금성', 6052, 0.7), ('태양', 695000, 0), ('지구', 6378, 1), \n",
    "           ('화성', 3390, 1.5), ('목성', 71492, 5.2)]\n",
    "\n",
    "print('태양계 행성의 크기(반지름)로 정렬')\n",
    "planets.sort(key=lambda x: x[1], reverse = True)\n",
    "print(planets)\n",
    "print()\n",
    "print('태양계 생성의 태양과의 거리로 정렬')\n",
    "planets.sort(key = lambda x: x[2])\n",
    "print(planets)"
   ]
  },
  {
   "cell_type": "code",
   "execution_count": 54,
   "id": "6dc59e0d",
   "metadata": {},
   "outputs": [
    {
     "name": "stdout",
     "output_type": "stream",
     "text": [
      "섭씨 온도:  [31, 79, 34, 5, 80, 47, 59, 4, 59]\n",
      "화씨 온도:  [87.8, 174.2, 93.2, 41.0, 176.0, 116.6, 138.2, 39.2, 138.2]\n",
      "\n",
      "섭씨 온도 31 => 화씨 87.8\n",
      "섭씨 온도 79 => 화씨 174.2\n",
      "섭씨 온도 34 => 화씨 93.2\n",
      "섭씨 온도 5 => 화씨 41.0\n",
      "섭씨 온도 80 => 화씨 176.0\n",
      "섭씨 온도 47 => 화씨 116.6\n",
      "섭씨 온도 59 => 화씨 138.2\n",
      "섭씨 온도 4 => 화씨 39.2\n",
      "섭씨 온도 59 => 화씨 138.2\n"
     ]
    }
   ],
   "source": [
    "#05\n",
    "from random import *\n",
    "celsius = [randint(1,100) for _ in range(9)]\n",
    "print('섭씨 온도: ', celsius)\n",
    "fahrenheit = list(map(lambda cels: cels*9/5+32, celsius))\n",
    "print('화씨 온도: ', fahrenheit)\n",
    "print()\n",
    "for c, f in zip(celsius, fahrenheit):\n",
    "    print('섭씨 온도 {} => 화씨 {}'.format(c, f))"
   ]
  },
  {
   "cell_type": "code",
   "execution_count": 52,
   "id": "350eb450",
   "metadata": {},
   "outputs": [
    {
     "name": "stdout",
     "output_type": "stream",
     "text": [
      "원 리스트:  [6, 15, 26, 27, 28, 29]\n",
      "필터 리스트:  [6, 15, 27]\n"
     ]
    }
   ],
   "source": [
    "#06\n",
    "lst = sorted(sample(range(1,31), 6))\n",
    "print('원 리스트: ', lst)\n",
    "\n",
    "lst2 = list(filter(lambda n: n%3 == 0 , lst))\n",
    "print('필터 리스트: ', lst2)"
   ]
  }
 ],
 "metadata": {
  "kernelspec": {
   "display_name": "Python 3 (ipykernel)",
   "language": "python",
   "name": "python3"
  },
  "language_info": {
   "codemirror_mode": {
    "name": "ipython",
    "version": 3
   },
   "file_extension": ".py",
   "mimetype": "text/x-python",
   "name": "python",
   "nbconvert_exporter": "python",
   "pygments_lexer": "ipython3",
   "version": "3.11.4"
  }
 },
 "nbformat": 4,
 "nbformat_minor": 5
}
