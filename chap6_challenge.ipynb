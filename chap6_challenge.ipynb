{
 "cells": [
  {
   "cell_type": "code",
   "execution_count": 2,
   "id": "9128a8f1",
   "metadata": {},
   "outputs": [
    {
     "name": "stdout",
     "output_type": "stream",
     "text": [
      "이름 : 김영희\n",
      "전화번호 : 010-3017-4468\n",
      "성별 : 여자\n",
      "나이 : 22\n",
      "대학교 : 한국대학교\n"
     ]
    }
   ],
   "source": [
    "#01\n",
    "# 개인 정보를 저장한 딕셔너리 선언\n",
    "privacy = {'이름' : '김영희', '전화번호' : '010-3017-4468', '성별' : '여자', '나이' : '22', '대학교' : '한국대학교'}\n",
    "\n",
    "# 여러 쌍의 키,값을 출력\n",
    "for key, val in privacy.items():\n",
    "    print('{} : {}'.format(key, val))"
   ]
  },
  {
   "cell_type": "code",
   "execution_count": 2,
   "id": "23f9edb8",
   "metadata": {},
   "outputs": [
    {
     "name": "stdout",
     "output_type": "stream",
     "text": [
      "{'삼성에스디에스': 242000, '삼성전자': 47000, '엔씨소프트': 52600, '핸디소프트': 5120, '골프존': 215000, '기아': 56300}\n",
      "\n",
      "주식 이름 ? 엔씨소프트\n",
      "엔씨소프트 : 52600\n",
      "\n",
      "주식 이름 ? 골프존\n",
      "골프존 : 215000\n",
      "\n",
      "주식 이름 ? 롯데\n",
      "주식 이름이 없습니다.\n"
     ]
    }
   ],
   "source": [
    "#02\n",
    "# 6개 회사의 주식 가격을 저장한 딕셔너리 선언 및 출력\n",
    "stock = {'삼성에스디에스' : 242000, '삼성전자' : 47000, '엔씨소프트' : 52600, '핸디소프트' : 5120, '골프존' : 215000, \n",
    "         '기아' : 56300}\n",
    "print(stock)\n",
    "print()\n",
    "\n",
    "# 회사 이름을 입력하면, 회사 이름과 주식 가격이 같이 출력\n",
    "while True:\n",
    "    stockName = input('주식 이름 ? ')\n",
    "    if stockName in stock:\n",
    "        print('{} : {}'.format(stockName, stock[stockName]))\n",
    "        print()\n",
    "    else:\n",
    "        print(\"주식 이름이 없습니다.\")\n",
    "        break\n"
   ]
  },
  {
   "cell_type": "code",
   "execution_count": 3,
   "id": "5fbc31ce",
   "metadata": {},
   "outputs": [
    {
     "name": "stdout",
     "output_type": "stream",
     "text": [
      "책 이름 : 파이썬 개론, 저자 : 강환수\n",
      "책 이름 : Perfect C, 저자 : 강환수, 이동규\n",
      "책 이름 : 컴퓨터 개론, 저자 : 강환수, 조진형, 신용현\n"
     ]
    }
   ],
   "source": [
    "#03\n",
    "# 책에 대한 정보를 저장한 딕셔너리 선언\n",
    "books = {'파이썬 개론' : ['강환수'], 'Perfect C' : ['강환수', '이동규'], '컴퓨터 개론' : ['강환수', '조진형', '신용현']}\n",
    "\n",
    "# 책 이름과 저자 출력 (1 - 1 매칭)\n",
    "for subject, value in books.items():\n",
    "    author = ', '.join(value)\n",
    "    print('책 이름 : {}, 저자 : {}'.format(subject, author))"
   ]
  },
  {
   "cell_type": "code",
   "execution_count": 5,
   "id": "29e3a13a",
   "metadata": {},
   "outputs": [
    {
     "name": "stdout",
     "output_type": "stream",
     "text": [
      "********************\n",
      "철수   영희   승자  \n",
      "********************\n",
      "가위   가위  비김 1\n",
      "\n",
      "가위   바위  영희 1\n",
      "\n",
      "바위   바위  비김 2\n",
      "\n",
      "바위   바위  비김 3\n",
      "\n",
      "보오   가위  영희 2\n",
      "\n",
      "바위   보오  영희 3\n",
      "\n",
      "바위   보오  영희 4\n",
      "\n",
      "바위   가위  철수 1\n",
      "\n",
      "바위   가위  철수 2\n",
      "\n",
      "보오   보오  비김 4\n",
      "\n",
      "가위   바위  영희 5\n",
      "\n",
      "보오   가위  영희 6\n",
      "\n",
      "가위   바위  영희 7\n",
      "\n",
      "가위   보오  철수 3\n",
      "\n",
      "바위   가위  철수 4\n",
      "\n",
      "바위   바위  비김 5\n",
      "\n",
      "바위   바위  비김 6\n",
      "\n",
      "보오   가위  영희 8\n",
      "\n",
      "바위   가위  철수 5\n",
      "\n",
      "가위   바위  영희 9\n",
      "\n",
      "총 게임 회수: 20  비긴 회수: 6\n",
      "철수 승률: 0.36\n",
      "영희 승률: 0.64\n"
     ]
    }
   ],
   "source": [
    "#04\n",
    "from random import choice\n",
    "\n",
    "# dcs - 게임의 승부를 결정하는 딕셔너리, tit - 주요 출력 단어로 구성된 리스트, rsp - 가위바위보가 저장된 튜플\n",
    "dcs = {'가위' : '보오', '바위' : '가위', '보오' : '바위'}\n",
    "tit = ['철수', '영희', '비김', '승자']\n",
    "rsp = ('가위', '바위', '보오')\n",
    "\n",
    "# 변수 선언 - 총 게임 회수, 승리회수, 비긴 회수\n",
    "totalCount = 0\n",
    "csWin = 0 \n",
    "yhWin = 0\n",
    "tiedCount = 0\n",
    "\n",
    "# 제목 출력\n",
    "print('*' * 20)\n",
    "print('{:4} {:4} {:4}'.format(tit[0], tit[1], tit[3]))\n",
    "print('*' * 20)\n",
    "\n",
    "# 가위바위보 20번 반복\n",
    "for _ in range(20):\n",
    "    cs = choice(rsp)\n",
    "    yh = choice(rsp)\n",
    "    \n",
    "    print('{:4} {:4}'.format(cs, yh), end = '')\n",
    "    \n",
    "    # 비김\n",
    "    if cs == yh:\n",
    "        tiedCount = tiedCount + 1\n",
    "        print('{:2} {}'.format(tit[2], tiedCount))\n",
    "        \n",
    "    \n",
    "    # 철수 승\n",
    "    elif dcs[cs] == yh:\n",
    "        csWin = csWin + 1\n",
    "        print('{:2} {}'.format(tit[0], csWin))   \n",
    "        \n",
    "    \n",
    "    # 영희 승\n",
    "    else:\n",
    "        yhWin = yhWin + 1\n",
    "        print('{:2} {}'.format(tit[1], yhWin))\n",
    "        \n",
    "    print()\n",
    "    totalCount = totalCount + 1\n",
    "\n",
    "# 승률 계산\n",
    "csWinRate = csWin / 14\n",
    "yhWinRate = yhWin / 14\n",
    "\n",
    "# 총 게임 회수, 비긴 회수, 철수 승률, 영희 승률 출력\n",
    "print('총 게임 회수: {}  비긴 회수: {}'.format(totalCount, tiedCount))\n",
    "print('철수 승률: {:.2f}'.format(csWinRate))\n",
    "print('영희 승률: {:.2f}'.format(yhWinRate))"
   ]
  },
  {
   "cell_type": "code",
   "execution_count": 6,
   "id": "c35882f2",
   "metadata": {},
   "outputs": [
    {
     "name": "stdout",
     "output_type": "stream",
     "text": [
      "{'apple': 1000, 'banana': 500, 'grapes': 1200, 'peer': 1500}\n",
      "\n",
      "1 apple 가격: 1000\n",
      "2 banana 가격: 500\n",
      "3 grapes 가격: 1200\n",
      "4 peer 가격: 1500\n"
     ]
    }
   ],
   "source": [
    "#05\n",
    "# 리스트, 튜플 선언\n",
    "fruits = ['apple', 'banana', 'grapes', 'peer']\n",
    "prices = (1000, 500, 1200, 1500)\n",
    "\n",
    "# zip() 함수를 사용해 리스트와 튜플을 딕셔너리로 만들기\n",
    "fruits_prices = dict(zip(fruits, prices))\n",
    "\n",
    "# 딕셔너리 출력\n",
    "print(fruits_prices)\n",
    "print()\n",
    "\n",
    "# enumerate() 함수를 사용해 과일에 따른 가격 출력\n",
    "for i, fruits_list in enumerate(fruits, start = 1):\n",
    "    print('{} {} 가격: {}'.format(i, fruits_list, prices[i - 1]))"
   ]
  },
  {
   "cell_type": "code",
   "execution_count": 7,
   "id": "976b4427",
   "metadata": {},
   "outputs": [
    {
     "name": "stdout",
     "output_type": "stream",
     "text": [
      "A = {4, 7, 10, 14, 20}\n",
      "B = {4, 5, 7, 11, 20}\n",
      "\n",
      "A | B = {4, 5, 7, 10, 11, 14, 20}\n",
      "A & B = {4, 20, 7}\n",
      "A - B = {10, 14}\n",
      "A ^ B = {5, 10, 11, 14}\n"
     ]
    }
   ],
   "source": [
    "#06\n",
    "from random import sample\n",
    "\n",
    "# 집합 A, B 선언\n",
    "A = set(sample(list(range(1,21)), 5))\n",
    "B = set(sample(list(range(1,21)), 5))\n",
    "\n",
    "# 합집합\n",
    "u = A | B\n",
    "# 교집합\n",
    "i = A & B\n",
    "# 차집합\n",
    "d = A - B        \n",
    "# 여집합        \n",
    "sd = A ^ B\n",
    "\n",
    "# 결과 출력\n",
    "print('A = {}'.format(A))\n",
    "print('B = {}'.format(B))\n",
    "print()\n",
    "print('A | B = {}'.format(u))\n",
    "print('A & B = {}'.format(i))\n",
    "print('A - B = {}'.format(d))\n",
    "print('A ^ B = {}'.format(sd))"
   ]
  }
 ],
 "metadata": {
  "kernelspec": {
   "display_name": "Python 3 (ipykernel)",
   "language": "python",
   "name": "python3"
  },
  "language_info": {
   "codemirror_mode": {
    "name": "ipython",
    "version": 3
   },
   "file_extension": ".py",
   "mimetype": "text/x-python",
   "name": "python",
   "nbconvert_exporter": "python",
   "pygments_lexer": "ipython3",
   "version": "3.11.4"
  }
 },
 "nbformat": 4,
 "nbformat_minor": 5
}
