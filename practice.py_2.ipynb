{
 "cells": [
  {
   "cell_type": "code",
   "execution_count": 2,
   "id": "dc5c8dc0",
   "metadata": {},
   "outputs": [
    {
     "name": "stdout",
     "output_type": "stream",
     "text": [
      "새로운 계좌가 생성되었습니다.\n",
      "임금이 완료되었습니다. 잔액은 1000원입니다.\n",
      "수수료 100원이며, 잔액은 400원입니다.\n"
     ]
    }
   ],
   "source": [
    "# 함수\n",
    "def open_account():\n",
    "    print(\"새로운 계좌가 생성되었습니다.\")\n",
    "    \n",
    "open_account()\n",
    "\n",
    "# 전달값과 반환값\n",
    "def deposit(balance, money): # 임금\n",
    "    print(\"임금이 완료되었습니다. 잔액은 {0}원입니다.\".format(balance + money))\n",
    "    return balance + money\n",
    "\n",
    "def withdraw(balance, money): #출금\n",
    "    if balance >= money: # 잔액이 출금보다 많으면\n",
    "        print(\"출금이 완료되었습니다. 잔액은 {0}원입니다.\".format(balance - money))\n",
    "        return balance - money\n",
    "    else:\n",
    "        print(\"출금이 완료되지 않았습니다. 잔액은 {0}원입니다.\".format(balance))\n",
    "        return balance\n",
    "        \n",
    "def withdraw_night(balance, money): #저녁에 출금\n",
    "    commission = 100 #수수료 100원\n",
    "    return commission, balance - money - commission\n",
    "\n",
    "balance = 0 # 잔액\n",
    "balance = deposit(balance, 1000)\n",
    "#balance = deposit(balance, 1000)\n",
    "#balance = withdraw(balance, 500)\n",
    "commission, balance = withdraw_night(balance, 500)\n",
    "print(\"수수료 {0}원이며, 잔액은 {1}원입니다.\".format(commission, balance))"
   ]
  },
  {
   "cell_type": "code",
   "execution_count": 3,
   "id": "154d1216",
   "metadata": {},
   "outputs": [
    {
     "name": "stdout",
     "output_type": "stream",
     "text": [
      "이름 : 유재석\t나이 : 17\t주 사용 언어 : 파이썬\n",
      "이름 : 김태호\t나이 : 17\t주 사용 언어 : 파이썬\n"
     ]
    }
   ],
   "source": [
    "#기본값\n",
    "#def profile(name, age, main_lang):\n",
    "#   print(\"이름 : {0}\\t나이 : {1}\\t주 사용 언어 : {2}\"\\\n",
    "#       .format(name, age, main_lang))\n",
    "#profile(\"유재석\", 20, \"파이썬\")\n",
    "#profile(\"김태호\", 25, \"자바\")\n",
    "\n",
    "# 같은 학교 같은 학년 같은 반 같은 수업\n",
    "def profile(name, age = 17, main_lang = \"파이썬\"):\n",
    "    print(\"이름 : {0}\\t나이 : {1}\\t주 사용 언어 : {2}\"\\\n",
    "      .format(name, age, main_lang))\n",
    "profile(\"유재석\")\n",
    "profile(\"김태호\")"
   ]
  },
  {
   "cell_type": "code",
   "execution_count": 1,
   "id": "1215e1a9",
   "metadata": {},
   "outputs": [
    {
     "name": "stdout",
     "output_type": "stream",
     "text": [
      "유재석 20 파이썬\n",
      "김태호 25 자바\n"
     ]
    }
   ],
   "source": [
    "#키워드값\n",
    "def profile(name, age, main_lang):\n",
    "    print(name, age, main_lang)\n",
    "profile(name=\"유재석\", main_lang = \"파이썬\", age=20)\n",
    "profile(main_lang=\"자바\", age=25, name =\"김태호\")"
   ]
  },
  {
   "cell_type": "code",
   "execution_count": 4,
   "id": "ef119f6d",
   "metadata": {},
   "outputs": [
    {
     "name": "stdout",
     "output_type": "stream",
     "text": [
      "이름 : 유재석\t나이 : 20\t Python Java C C++ C# JavaScript \n",
      "이름 : 김태호\t나이 : 25\t Kotlin Swift \n"
     ]
    }
   ],
   "source": [
    "#가변인자\n",
    "#def profile(name, age, lang1, lang2, lang3, lang4, lang5):\n",
    "#    print(\"이름 : {0}\\t나이 : {1}\\t\".format(name, age), end=\" \")\n",
    "#    print(lang1, lang2, lang3, lang4, lang5)\n",
    "\n",
    "def profile(name, age, *language):\n",
    "    print(\"이름 : {0}\\t나이 : {1}\\t\".format(name, age), end=\" \")\n",
    "    for lang in language:\n",
    "        print(lang, end=\" \")\n",
    "    print()\n",
    "profile(\"유재석\", 20, \"Python\", \"Java\", \"C\", \"C++\", \"C#\", \"JavaScript\")\n",
    "profile(\"김태호\", 25, \"Kotlin\", \"Swift\")"
   ]
  },
  {
   "cell_type": "code",
   "execution_count": 5,
   "id": "7e5ac984",
   "metadata": {},
   "outputs": [
    {
     "name": "stdout",
     "output_type": "stream",
     "text": [
      "전체 총 : 10\n",
      "[함수 내] 남은 총 : 8\n",
      "[함수 내] 남은 총 : 6\n",
      "남은 총: 6\n"
     ]
    }
   ],
   "source": [
    "#지역변수와 전역변수\n",
    "gun = 10\n",
    "\n",
    "def checkpoint(soldiers): #경계근무\n",
    "    global gun # 전역 공간에 있는 gun 사용\n",
    "    gun = gun - soldiers\n",
    "    print(\"[함수 내] 남은 총 : {0}\".format(gun))\n",
    "    \n",
    "def checkpoint_ret(gun, soldiers):\n",
    "    gun = gun - soldiers\n",
    "    print(\"[함수 내] 남은 총 : {0}\".format(gun))\n",
    "    return gun\n",
    "\n",
    "print(\"전체 총 : {0}\".format(gun))\n",
    "checkpoint(2) # 2명이 경계 근무 나감\n",
    "gun = checkpoint_ret(gun, 2)\n",
    "print(\"남은 총: {0}\".format(gun))"
   ]
  },
  {
   "cell_type": "code",
   "execution_count": 4,
   "id": "57c5c7c4",
   "metadata": {},
   "outputs": [
    {
     "name": "stdout",
     "output_type": "stream",
     "text": [
      "수학      :   0\n",
      "영어      :  50\n",
      "코딩      : 100\n",
      "\n",
      "대기번호: 001\n",
      "대기번호: 002\n",
      "대기번호: 003\n",
      "대기번호: 004\n",
      "대기번호: 005\n",
      "대기번호: 006\n",
      "대기번호: 007\n",
      "대기번호: 008\n",
      "대기번호: 009\n",
      "대기번호: 010\n",
      "대기번호: 011\n",
      "대기번호: 012\n",
      "대기번호: 013\n",
      "대기번호: 014\n",
      "대기번호: 015\n",
      "대기번호: 016\n",
      "대기번호: 017\n",
      "대기번호: 018\n",
      "대기번호: 019\n",
      "대기번호: 020\n",
      "아무 값이나 입력하세요 : 10\n",
      "<class 'int'>\n"
     ]
    }
   ],
   "source": [
    "#표준입출력\n",
    "import sys\n",
    "#print(\"Python\", \"Java\", sep=\",\", end =\"?\")\n",
    "#print(\"무엇이 더 재밌을까요?\")\n",
    "#print(\"Python\", \"Java\", file=sys.stdout)\n",
    "#print(\"Python\", \"Java\", file=sys.stderr)\n",
    "\n",
    "# 시험 성적\n",
    "scores = {\"수학\" : 0, \"영어\" : 50, \"코딩\" : 100}\n",
    "for subject, score in scores.items():\n",
    "    print(subject.ljust(8), \\\n",
    "          str(score).rjust(4), sep =\":\") # ljust: 8칸 확보 후 왼쪽 정렬, rjust: 4칸 확보 후 오른쪽 정렬\n",
    "print()\n",
    "#은행 대기순번표\n",
    "for num in range(1, 21):\n",
    "    print('대기번호: ' + str(num).zfill(3)) # 3칸 확보 후 값이 없는 빈공간은 0으로 채워라\n",
    "    \n",
    "answer = input('아무 값이나 입력하세요 : ')\n",
    "answer = 10\n",
    "print(type(answer))\n",
    "print(\"입력하신 값은 \" + answer + \"입니다.\")"
   ]
  },
  {
   "cell_type": "code",
   "execution_count": 4,
   "id": "0ceadc5d",
   "metadata": {},
   "outputs": [
    {
     "name": "stdout",
     "output_type": "stream",
     "text": [
      "       500\n",
      "      +500\n",
      "      -500\n",
      "+500______\n",
      "100,000,000,000,000\n",
      "+100,000,000,000,000\n",
      "-100,000,000,000,000\n",
      "+100,000,000,000,000,000^^^^^^\n",
      "1.666667\n",
      "1.67\n"
     ]
    }
   ],
   "source": [
    "# 빈 자리는 빈공간으로 두고, 오른쪽 정렬을 하되, 총 10자리 공간을 확보\n",
    "print(\"{0: >10}\".format(500)) # 중괄호 속 0은 첫 번째 인자, 즉 500을 의미함.\n",
    "#양수일 땐 +로 표시, 음수일 땐 -로 표시\n",
    "print(\"{0: >+10}\".format(500))\n",
    "print(\"{0: >+10}\".format(-500))\n",
    "#왼쪽 정렬하고, 빈칸으로 _로 채움\n",
    "print(\"{0:_<+10}\".format(500))\n",
    "#3자리마다 콤마를 찍어주기\n",
    "print(\"{0:,}\".format(100000000000000))\n",
    "#3자리마다 콤마를 찍어주기, +- 부호도 붙이기\n",
    "print(\"{0:+,}\".format(100000000000000))\n",
    "print(\"{0:+,}\".format(-100000000000000))\n",
    "#3자리마다 콤마를 찍어주기, 부호도 붙이고, 자릿수 확보하기\n",
    "#돈이 많으면 행복하니까 빈 자리는 ^로 채워주기\n",
    "print(\"{0:^<+30,}\".format(100000000000000000))\n",
    "#소수점 출력\n",
    "print(\"{0:f}\".format(5/3))\n",
    "#소수점 특정 자리수까지만 표시(소수점 3째 자리에서 반올림)\n",
    "print(\"{0:.2f}\".format(5/3))"
   ]
  },
  {
   "cell_type": "code",
   "execution_count": null,
   "id": "d7ec050c",
   "metadata": {},
   "outputs": [],
   "source": []
  }
 ],
 "metadata": {
  "kernelspec": {
   "display_name": "Python 3 (ipykernel)",
   "language": "python",
   "name": "python3"
  },
  "language_info": {
   "codemirror_mode": {
    "name": "ipython",
    "version": 3
   },
   "file_extension": ".py",
   "mimetype": "text/x-python",
   "name": "python",
   "nbconvert_exporter": "python",
   "pygments_lexer": "ipython3",
   "version": "3.11.4"
  }
 },
 "nbformat": 4,
 "nbformat_minor": 5
}
